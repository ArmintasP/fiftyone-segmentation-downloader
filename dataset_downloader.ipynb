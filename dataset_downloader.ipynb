{
 "cells": [
  {
   "cell_type": "code",
   "execution_count": null,
   "metadata": {},
   "outputs": [],
   "source": [
    "import fiftyone as fo\n",
    "import fiftyone.zoo as foz\n",
    "import fiftyone.utils.labels as foul\n",
    "import os\n",
    "import uuid"
   ]
  },
  {
   "cell_type": "code",
   "execution_count": null,
   "metadata": {},
   "outputs": [],
   "source": [
    "def export_dataset(dir, class_name, dataset):\n",
    "    classes = dataset.default_classes\n",
    "    mask_targets = {i: label for i, label in enumerate(classes)}\n",
    "\n",
    "    # Render instance segmentations in `Segmentation` format\n",
    "    foul.objects_to_segmentations(\n",
    "        dataset,\n",
    "        \"ground_truth\",\n",
    "        \"segmentation\",\n",
    "        mask_targets=mask_targets,\n",
    "    )\n",
    "\n",
    "    # Export images and detection XML\n",
    "    dataset.export(\n",
    "        data_path= os.path.join(dir, class_name, \"images\"),\n",
    "        #labels_path= os.path.join(dir, class_name, \"labels\")\n",
    "        dataset_type=fo.types.VOCDetectionDataset,\n",
    "        label_field=\"ground_truth\",\n",
    "    )\n",
    "\n",
    "    # Export segmentations\n",
    "    dataset.export(\n",
    "        labels_path= os.path.join(dir, class_name, \"masks\"),\n",
    "        dataset_type=fo.types.ImageSegmentationDirectory,\n",
    "        label_field=\"segmentation\",\n",
    "    )\n",
    "    \n",
    "def download_dataset(samples_count, class_name, is_train, dir, seed = 51):\n",
    "    # We use \"test\" for training, because \"test\" has bigger data and takes less to download.\n",
    "    dir = os.path.join(dir, \"train\" if is_train else \"validation\")\n",
    "    dataset = foz.load_zoo_dataset(\n",
    "        \"open-images-v7\",\n",
    "        split= \"test\" if is_train else \"validation\",\n",
    "        label_types=[\"segmentations\"],\n",
    "        classes = [class_name],\n",
    "        max_samples= samples_count,\n",
    "        seed=seed,\n",
    "        shuffle=True,\n",
    "        dataset_name=str(uuid.uuid4()),\n",
    "        cleanup=True\n",
    "        )\n",
    "    \n",
    "    export_dataset(dir, class_name, dataset)\n",
    "    dataset.delete()\n",
    "    "
   ]
  },
  {
   "cell_type": "code",
   "execution_count": null,
   "metadata": {},
   "outputs": [],
   "source": [
    "dir_path = \"/yourpath/\"\n",
    "download_dataset(samples_count=350, class_name=\"Cat\", is_train=True, dir=dir_path)\n",
    "download_dataset(samples_count=100, class_name=\"Cat\", is_train=False, dir=dir_path)\n",
    "download_dataset(samples_count=350, class_name=\"Dog\", is_train=True, dir=dir_path)\n",
    "download_dataset(samples_count=100, class_name=\"Dog\", is_train=False, dir=dir_path)\n",
    "download_dataset(samples_count=350, class_name=\"Bird\", is_train=True, dir=dir_path)\n",
    "download_dataset(samples_count=100, class_name=\"Bird\", is_train=False, dir=dir_path)"
   ]
  },
  {
   "cell_type": "code",
   "execution_count": null,
   "metadata": {},
   "outputs": [],
   "source": [
    "# session = fo.launch_app(dataset_1.view())\n",
    "# print(session)"
   ]
  }
 ],
 "metadata": {
  "kernelspec": {
   "display_name": "d2l",
   "language": "python",
   "name": "python3"
  },
  "language_info": {
   "codemirror_mode": {
    "name": "ipython",
    "version": 3
   },
   "file_extension": ".py",
   "mimetype": "text/x-python",
   "name": "python",
   "nbconvert_exporter": "python",
   "pygments_lexer": "ipython3",
   "version": "3.9.16"
  },
  "orig_nbformat": 4
 },
 "nbformat": 4,
 "nbformat_minor": 2
}
